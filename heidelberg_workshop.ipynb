{
  "cells": [
    {
      "cell_type": "markdown",
      "source": [
        "Welcome to this hands-on session's official Google Colab!\n",
        "\n",
        "\n",
        "\n",
        "---\n",
        "\n",
        "\n",
        "\n",
        "In this environment, you get text blocks (like this one) and editable code blocks (like the one that follows this one).\n",
        "\n",
        "In some blocks, there will be an ellipsis somewhere - ...\n",
        "\n",
        "This marks places where you are expected to fill in your own code. You can\n",
        "expect that the required code fits neatly into a single line of code, but you can of course use as many lines as you feel comfortable.\n",
        "\n",
        "There is no ellipsis in the following code block, so you can just go ahead and run it -- it loads:\n",
        "\n",
        "1) the *os*, *pandas* packages;\n",
        "\n",
        "2) defines the *expected agreement* function, which we use later;\n",
        "\n",
        "3) optionally, may load the *metrics* library from the *scikit-learn* package.\n",
        "\n",
        "Click the Play button in the top left of the code block!\n"
      ],
      "metadata": {
        "id": "ld8bBC8CMuQs"
      },
      "id": "ld8bBC8CMuQs"
    },
    {
      "cell_type": "code",
      "execution_count": null,
      "id": "initial_id",
      "metadata": {
        "collapsed": true,
        "ExecuteTime": {
          "end_time": "2025-06-09T11:11:57.735224900Z",
          "start_time": "2025-06-09T11:11:57.728225Z"
        },
        "id": "initial_id",
        "colab": {
          "base_uri": "https://localhost:8080/"
        },
        "outputId": "d9f53d28-52c3-4879-91bb-8f81adb50bd7"
      },
      "outputs": [
        {
          "output_type": "stream",
          "name": "stdout",
          "text": [
            "Packages loaded and expected agreement defined!\n"
          ]
        }
      ],
      "source": [
        "import pandas as pd\n",
        "import os\n",
        "\n",
        "import sklearn.metrics as metrics\n",
        "\n",
        "print(\"Packages loaded and expected agreement defined!\")"
      ]
    },
    {
      "cell_type": "markdown",
      "source": [
        "The following block loads the annotation everyone has worked on today into memory (after I've anonymized it on my machine, which, if you're reading this, is probably the case -- if you're unsure, ask!).\n",
        "\n",
        "Each original X-Ray report and its translation has a unique id (something like \"0P10090238471000\"), which here replaces the text itself. If we become interested in a particular report, I can easily find its corresponding text, in both German and English, and show it on the projector.\n",
        "\n",
        "The cell contains error handling logic which tries to load the data into memory from GitHub. If it fails, it prints out an error message."
      ],
      "metadata": {
        "id": "MVeCaUy4L5Eq"
      },
      "id": "MVeCaUy4L5Eq"
    },
    {
      "cell_type": "code",
      "execution_count": null,
      "outputs": [
        {
          "output_type": "stream",
          "name": "stdout",
          "text": [
            "Data succesfully loaded!\n",
            "Index(['report_id', 'annotator_English', 'annotator_German',\n",
            "       'diagnosis_English', 'diagnosis_German'],\n",
            "      dtype='object')\n",
            "           report_id  annotator_English  annotator_German  \\\n",
            "0   0P10087274932000                 18                15   \n",
            "1   0P10087451436000                 10                13   \n",
            "2   0P10087451447000                 18                15   \n",
            "3   0P10087490536000                 10                13   \n",
            "4   0P10087510626000                 18                15   \n",
            "5   0P10087619283000                  5                13   \n",
            "6   0P10087641883000                  5                13   \n",
            "7   0P10087656469000                  8                17   \n",
            "8   0P10087663944000                  5                13   \n",
            "9   0P10087673761000                  5                13   \n",
            "10  0P10087676176000                 10                13   \n",
            "11  0P10087747788000                 18                15   \n",
            "12  0P10088264123000                 10                13   \n",
            "13  0P10088633247000                 12                11   \n",
            "14  0P10088777314000                 12                11   \n",
            "15  0P10088806543000                 18                15   \n",
            "16  0P10089260626000                 10                13   \n",
            "17  0P10089692518000                 12                11   \n",
            "18  0P10089752092000                 10                13   \n",
            "19  0P10090238471000                  5                13   \n",
            "20  0P10090567538000                 10                13   \n",
            "21  0P10090587105000                 10                13   \n",
            "22  0P10090665718000                  8                17   \n",
            "23  0P10090730644000                  8                17   \n",
            "24  0P10090757668000                  8                17   \n",
            "25  0P10090782227000                  8                17   \n",
            "26  0P10090785717000                 12                11   \n",
            "27  0P10090836029000                 18                15   \n",
            "28  0P10090867341000                  8                17   \n",
            "29  0P10090967020000                  8                17   \n",
            "30  0P10090995600000                  8                17   \n",
            "31  0P10091208100000                  5                13   \n",
            "32  0P10091213733000                 12                11   \n",
            "33  0P10091267464000                 18                15   \n",
            "34  0P10091379512000                  5                13   \n",
            "35  0P10091576161000                 18                15   \n",
            "\n",
            "                                    diagnosis_English  \\\n",
            "0                                           Pneumonia   \n",
            "1                                      Fluid overload   \n",
            "2                                             Healthy   \n",
            "3   Fracture at wrist or hand level, Fracture of f...   \n",
            "4                                        Pneumothorax   \n",
            "5                 Fracture of unspecified body region   \n",
            "6       Fracture of lower leg, including ankle, Other   \n",
            "7                                      Fluid overload   \n",
            "8                 Fracture of unspecified body region   \n",
            "9   Fracture of unspecified body region, Low bone ...   \n",
            "10       Fracture of forearm, Low bone mass disorders   \n",
            "11                                            Healthy   \n",
            "12                                            Healthy   \n",
            "13                                   Pleural effusion   \n",
            "14                                              Other   \n",
            "15                                            Healthy   \n",
            "16                                            Healthy   \n",
            "17                                              Other   \n",
            "18                                            Healthy   \n",
            "19                                            Healthy   \n",
            "20                                       Cardiomegaly   \n",
            "21                            Low bone mass disorders   \n",
            "22                                          Pneumonia   \n",
            "23                                  Fracture of femur   \n",
            "24                 Fracture of lumbar spine or pelvis   \n",
            "25                            Low bone mass disorders   \n",
            "26                                              Other   \n",
            "27                                          Pneumonia   \n",
            "28             Fracture of lower leg, including ankle   \n",
            "29                                   Pleural effusion   \n",
            "30                                  Fracture of femur   \n",
            "31                                            Healthy   \n",
            "32                                   Pleural effusion   \n",
            "33                                            Healthy   \n",
            "34                                              Other   \n",
            "35                                          Pneumonia   \n",
            "\n",
            "                              diagnosis_German  \n",
            "0                                      Healthy  \n",
            "1                             Pleural effusion  \n",
            "2                             Pleural effusion  \n",
            "3              Fracture at wrist or hand level  \n",
            "4                             Pleural effusion  \n",
            "5              Fracture at wrist or hand level  \n",
            "6                                        Other  \n",
            "7       Fracture of lower leg, including ankle  \n",
            "8           Fracture of lumbar spine or pelvis  \n",
            "9                            Fracture of femur  \n",
            "10                                       Other  \n",
            "11                                       Other  \n",
            "12             Fracture at wrist or hand level  \n",
            "13                Cardiomegaly, Fluid overload  \n",
            "14                                     Healthy  \n",
            "15                     Low bone mass disorders  \n",
            "16             Fracture at wrist or hand level  \n",
            "17                                     Healthy  \n",
            "18                                       Other  \n",
            "19                                   Pneumonia  \n",
            "20                                       Other  \n",
            "21                                       Other  \n",
            "22                                Cardiomegaly  \n",
            "23                                Cardiomegaly  \n",
            "24                              Fluid overload  \n",
            "25                                Cardiomegaly  \n",
            "26                                     Healthy  \n",
            "27                                     Healthy  \n",
            "28  Fracture of rib, sternum or thoracic spine  \n",
            "29           Fracture of shoulder or upper arm  \n",
            "30                                Cardiomegaly  \n",
            "31             Fracture at wrist or hand level  \n",
            "32                     Other, Pleural effusion  \n",
            "33                                       Other  \n",
            "34                                       Other  \n",
            "35                                       Other  \n"
          ]
        }
      ],
      "source": [
        "try:\n",
        "  url = \"https://raw.githubusercontent.com/iml-r/heidelberg-nmt/refs/heads/main/anonymized_reports.tsv\"\n",
        "  data = pd.read_csv(url, sep=\"\\t\")\n",
        "\n",
        "  print(\"Data succesfully loaded!\")\n",
        "  print(data.columns)\n",
        "  print(data)\n",
        "\n",
        "except:\n",
        "  print(\"Whoops! Something went wrong. Let me know and I'll fix it!\")"
      ],
      "metadata": {
        "ExecuteTime": {
          "end_time": "2025-06-09T10:44:23.332918800Z",
          "start_time": "2025-06-09T10:44:23.274472800Z"
        },
        "id": "fef4af766794d713",
        "colab": {
          "base_uri": "https://localhost:8080/"
        },
        "outputId": "b9bbd53a-b253-4c3f-d399-c30cdf887fc3"
      },
      "id": "fef4af766794d713"
    },
    {
      "cell_type": "markdown",
      "source": [
        "Extract the \"diagnosis_English\" column and the corresponding German column. A sanity check will be performed to ascertain that these are of the same length."
      ],
      "metadata": {
        "id": "9ndeljorVSuc"
      },
      "id": "9ndeljorVSuc"
    },
    {
      "cell_type": "code",
      "execution_count": null,
      "outputs": [
        {
          "output_type": "stream",
          "name": "stdout",
          "text": [
            "Success! (probably)\n"
          ]
        }
      ],
      "source": [
        "english_labels = data.diagnosis_English\n",
        "german_labels = data.diagnosis_German\n",
        "\n",
        "assert len(english_labels) == len(german_labels), \"Lengths don't match!\"\n",
        "print(\"Success! (probably)\")"
      ],
      "metadata": {
        "ExecuteTime": {
          "end_time": "2025-06-09T11:13:33.190474Z",
          "start_time": "2025-06-09T11:13:33.099616700Z"
        },
        "id": "494b3153789f4ff6",
        "colab": {
          "base_uri": "https://localhost:8080/"
        },
        "outputId": "220fc131-fd86-4403-89a8-a5e20c683279"
      },
      "id": "494b3153789f4ff6"
    },
    {
      "cell_type": "markdown",
      "source": [
        "Now we can calculate observed agreement. As we've discussed during the intro prezi, this is actually not sufficient -- because randomly annotating apples at oranges at 50% distribution is gonna give you 50% agreement.\n",
        "\n",
        "Expected agreement is simply the ratio between all items in x,y that are equal and the length of x and y (which has to be the same -- the first line of the function definition already checks for that). In our case, $x$ is the German labels and $y$ is the English labels (or vice versa; neither Cohen's kappa or observed agreement cares about ordering).\n",
        "\n",
        "In addition, this code block defines expected agreement. This is a bit too difficult for the time we have, but you can at least check the code."
      ],
      "metadata": {
        "id": "lGvX_RdSYMRZ"
      },
      "id": "lGvX_RdSYMRZ"
    },
    {
      "cell_type": "code",
      "source": [
        "def observed_agreement(x,y):\n",
        "  p_o = sum([a == b for a,b in zip(x,y)])/len(x)\n",
        "\n",
        "  return p_o\n",
        "\n",
        "#Do not edit this\n",
        "def expected_agreement(rater1, rater2):\n",
        "    rater1 = list(rater1)\n",
        "    rater2 = list(rater2)\n",
        "\n",
        "    n = len(rater1)\n",
        "    assert n == len(rater2)\n",
        "\n",
        "    categories = set(rater1) | set(rater2)\n",
        "\n",
        "    p_rater1 = {c: rater1.count(c) / n for c in categories}\n",
        "    p_rater2 = {c: rater2.count(c) / n for c in categories}\n",
        "\n",
        "    p_e = sum(p_rater1[c] * p_rater2[c] for c in categories)\n",
        "    return p_e"
      ],
      "metadata": {
        "id": "wIJLul3qYLw5"
      },
      "id": "wIJLul3qYLw5",
      "execution_count": null,
      "outputs": []
    },
    {
      "cell_type": "markdown",
      "source": [
        "Cohen's kappa solves the issue of random agreement.\n",
        "\n",
        "It expects two sequences of labels, $x$ and $y$, of equal length.\n",
        "We already know that $x$ and $y$ are of the same length, since the previous block checks for it.\n",
        "\n",
        "Formally, the definition is\n",
        "\n",
        "$$\n",
        "\\kappa = \\frac{p_o - p_e}{1 - p_e},\n",
        "$$\n",
        "\n",
        "where $p_o$ is the observed agreement (the ratio of [items in $x$ equalling items in $y$ on the same position] and [total number of items]) and $p_e$ is the expected agreement (use the *expected_agreement()* function from the first block to calculate them and *observed_agreement()*).\n",
        "\n",
        "If you find yourself struggling, either ask me or just uncomment the commented\n",
        "line, which uses a pre-coded version from scikit-learn (by the way,\n",
        "this would be the preferred approach over re-inventing the wheel in actual practice,\n",
        "but this is a coding exercise and learning opportunity!)\n",
        "Also, you can uncomment the line with the expected agreement to see the difference between it and Cohen's kappa."
      ],
      "metadata": {
        "id": "g-mKRqFLOW_1"
      },
      "id": "g-mKRqFLOW_1"
    },
    {
      "cell_type": "code",
      "execution_count": null,
      "outputs": [
        {
          "output_type": "stream",
          "name": "stdout",
          "text": [
            "Result:  1.0\n"
          ]
        }
      ],
      "source": [
        "def cohen_kappa_score(x, y) -> float:\n",
        "  assert len(x) == len(y)\n",
        "\n",
        "  p_o = observed_agreement(x,y)\n",
        "  p_e = expected_agreement(x,y)\n",
        "\n",
        "  kappa = (p_o - p_e) / (1 - p_e)\n",
        "\n",
        "  return kappa\n",
        "\n",
        "result = cohen_kappa_score(english_labels, german_labels)\n",
        "#result = metrics.cohen_kappa_score(english_labels, german_labels)\n",
        "#result = expected_agreement(english_labels, german_labels)\n",
        "\n",
        "print(\"Result: \", round(result, 2))"
      ],
      "metadata": {
        "ExecuteTime": {
          "end_time": "2025-06-09T11:14:02.107613700Z",
          "start_time": "2025-06-09T11:14:02.102978200Z"
        },
        "id": "76618277867dba80",
        "colab": {
          "base_uri": "https://localhost:8080/"
        },
        "outputId": "f2160165-3cc4-4ec3-a01a-77d700d08c51"
      },
      "id": "76618277867dba80"
    },
    {
      "cell_type": "markdown",
      "source": [
        "Finally, our task is to find the disagreed-upon reports so that we can compare them and discuss what went wrong and more importantly why.\n",
        "\n",
        "Write code that prints the id of each report where the labels by the two annotators don't match (I will find the reports corresponding to the ids on my machine -- again, data confidentiality)"
      ],
      "metadata": {
        "id": "4Ju8BF5IWOtJ"
      },
      "id": "4Ju8BF5IWOtJ"
    },
    {
      "cell_type": "code",
      "execution_count": null,
      "outputs": [],
      "source": [
        "for _, row in data.iterrows():\n",
        "  english_label = row.diagnosis_English\n",
        "  german_label = row.diagnosis_German\n",
        "\n",
        "  ...\n",
        "\n",
        "\n"
      ],
      "metadata": {
        "id": "6a0967841c3f4ca1"
      },
      "id": "6a0967841c3f4ca1"
    }
  ],
  "metadata": {
    "kernelspec": {
      "display_name": "Python 3",
      "language": "python",
      "name": "python3"
    },
    "language_info": {
      "codemirror_mode": {
        "name": "ipython",
        "version": 2
      },
      "file_extension": ".py",
      "mimetype": "text/x-python",
      "name": "python",
      "nbconvert_exporter": "python",
      "pygments_lexer": "ipython2",
      "version": "2.7.6"
    },
    "colab": {
      "provenance": []
    }
  },
  "nbformat": 4,
  "nbformat_minor": 5
}